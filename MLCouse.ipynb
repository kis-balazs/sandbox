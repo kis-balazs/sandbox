{
  "nbformat": 4,
  "nbformat_minor": 0,
  "metadata": {
    "colab": {
      "name": "teaching",
      "provenance": [],
      "collapsed_sections": [
        "tKsWBzSmAiYU",
        "5d6c9sLWBNmK",
        "igtg7vuw1PCy",
        "-ml2_46Dpvtz",
        "bD6XNbCWlS1k",
        "zzCA6WK4IKsg",
        "NS2fTgJIuLD5",
        "rWDG0u_BuNHx",
        "JgloKM-THiaO",
        "V2EEM0ByvF37"
      ],
      "toc_visible": true,
      "authorship_tag": "ABX9TyNJzjJ/EwIRgLAOYA1oba1U",
      "include_colab_link": true
    },
    "kernelspec": {
      "name": "python3",
      "display_name": "Python 3"
    },
    "language_info": {
      "name": "python"
    }
  },
  "cells": [
    {
      "cell_type": "markdown",
      "metadata": {
        "id": "view-in-github",
        "colab_type": "text"
      },
      "source": [
        "<a href=\"https://colab.research.google.com/github/kis-balazs/sandbox/blob/master/MLCouse.ipynb\" target=\"_parent\"><img src=\"https://colab.research.google.com/assets/colab-badge.svg\" alt=\"Open In Colab\"/></a>"
      ]
    },
    {
      "cell_type": "code",
      "source": [
        "# used for parameter type declaration\n",
        "from typing import Union"
      ],
      "metadata": {
        "id": "WWAVyg2lXfLe"
      },
      "execution_count": null,
      "outputs": []
    },
    {
      "cell_type": "markdown",
      "source": [
        "---\n",
        "Author: Kis Balázs\n",
        "\n",
        "Email: balazskis@gmail.com | attila-balazs.kis@porsche-engineering.de\n"
      ],
      "metadata": {
        "id": "UrP2FbQxv3dZ"
      }
    },
    {
      "cell_type": "markdown",
      "source": [
        "# firebase setup\n",
        "\n",
        "**PLEASE DO NOT TOUCH** this code, this is used for setting up the solution database.\n",
        "\n",
        "*We would like to give you an easy and nice evaluation process for the problems we prepared for you, so please do not alter the source code from this section.*"
      ],
      "metadata": {
        "id": "uKRwwtlPi9Xk"
      }
    },
    {
      "cell_type": "code",
      "source": [
        "%pip install cryptography\n",
        "%pip install git+https://github.com/ozgur/python-firebase"
      ],
      "metadata": {
        "id": "jgsYneRfn_O5"
      },
      "execution_count": null,
      "outputs": []
    },
    {
      "cell_type": "code",
      "source": [
        "from termcolor import colored\n",
        "\n",
        "from cryptography.fernet import Fernet\n",
        "from firebase import firebase\n",
        "\n",
        "__firebase = firebase.FirebaseApplication(\n",
        "    Fernet(b'uYPm5aU_zow2nlK__OEHQZL63mPWPWR0uFNRraJrU5Q=').decrypt(b'gAAAAABh_qwOI_lyml6lqIrreORT2CAYjAd3efFwMrYam5y-Lm3RTi4-mfN4jeU9paGkmzZYO0I7nAczJr5-eiWTPzF20bdSZ3Zz8X2Zvvj8I8GEMPkNaUCKQIVeBCwiV89phgIJft1dT8h1fZfyaLuyW1ZQ8Dbl074Amb2Eq6tji3WDW1V3pvw=').decode('UTF-8'),\n",
        "    None\n",
        ")\n",
        "\n",
        "\n",
        "def evaluate(problem_id, submitted_solution=''):\n",
        "    \"\"\"function to take the value from the firebase database and evaluate it\n",
        "    agains the submitted solution, by printing the evaluation\n",
        "\n",
        "    :params problem_id: the hierarchical ID of the problem in the database\n",
        "    :param submitted_solution: the solution of the user\n",
        "    :returns None\"\"\"\n",
        "    assert __firebase\n",
        "    correct_solution = __firebase.get(problem_id, None)\n",
        "    if correct_solution == submitted_solution:\n",
        "        print(colored('Correct solution!', 'green'))\n",
        "    else:\n",
        "        print(colored('Wrong solution, try again!', 'red'))"
      ],
      "metadata": {
        "id": "crNKTy1dn0Ix"
      },
      "execution_count": null,
      "outputs": []
    },
    {
      "cell_type": "markdown",
      "source": [
        "# ML101"
      ],
      "metadata": {
        "id": "zaf684osVTVn"
      }
    },
    {
      "cell_type": "markdown",
      "source": [
        "## numpy\n",
        "\n",
        "Official reference: https://numpy.org/doc/stable/reference/index.html"
      ],
      "metadata": {
        "id": "tKsWBzSmAiYU"
      }
    },
    {
      "cell_type": "code",
      "source": [
        "import numpy as np\n",
        "print(np.__version__)"
      ],
      "metadata": {
        "id": "AQ754oGPAoaD"
      },
      "execution_count": null,
      "outputs": []
    },
    {
      "cell_type": "markdown",
      "source": [
        "## pandas\n",
        "\n",
        "Official reference: https://pandas.pydata.org/pandas-docs/stable/reference/index.html"
      ],
      "metadata": {
        "id": "5d6c9sLWBNmK"
      }
    },
    {
      "cell_type": "code",
      "source": [
        "import pandas as pd\n",
        "print(pd.__version__)"
      ],
      "metadata": {
        "id": "_6SDcjX6Bhci"
      },
      "execution_count": null,
      "outputs": []
    },
    {
      "cell_type": "markdown",
      "source": [
        "## Image Processing"
      ],
      "metadata": {
        "id": "4_k_N51nHFdw"
      }
    },
    {
      "cell_type": "markdown",
      "source": [
        "### setup"
      ],
      "metadata": {
        "id": "igtg7vuw1PCy"
      }
    },
    {
      "cell_type": "code",
      "source": [
        "# IP\n",
        "from scipy import misc\n",
        "from PIL import Image"
      ],
      "metadata": {
        "id": "1YiCHTLoxgWa"
      },
      "execution_count": null,
      "outputs": []
    },
    {
      "cell_type": "code",
      "source": [
        "img = misc.ascent()\n",
        "img = misc.face()"
      ],
      "metadata": {
        "id": "mQjcHfMaHHPg"
      },
      "execution_count": null,
      "outputs": []
    },
    {
      "cell_type": "code",
      "source": [
        "# resize image to 300x400 - no need to wait for it\n",
        "img = np.array(Image.fromarray(img).resize((400, 300)), dtype=np.int32)"
      ],
      "metadata": {
        "id": "nePjCaJWhiln"
      },
      "execution_count": null,
      "outputs": []
    },
    {
      "cell_type": "code",
      "source": [
        "import matplotlib.pyplot as plt\n",
        "\n",
        "def show_image(img: np.ndarray) -> None:\n",
        "    print('Image shape:', img.shape)\n",
        "    plt.grid(False)\n",
        "    plt.gray()\n",
        "    plt.axis('off')\n",
        "    plt.imshow(img)\n",
        "    plt.show()"
      ],
      "metadata": {
        "id": "_j2NDc9SHJoA"
      },
      "execution_count": null,
      "outputs": []
    },
    {
      "cell_type": "code",
      "source": [
        "show_image(img)"
      ],
      "metadata": {
        "id": "kqHylK46lYdF"
      },
      "execution_count": null,
      "outputs": []
    },
    {
      "cell_type": "markdown",
      "source": [
        "### 1. Basic operations on images"
      ],
      "metadata": {
        "id": "PLv4IBmfXpwP"
      }
    },
    {
      "cell_type": "markdown",
      "source": [
        "#### 1.1 Understand pixel and image structure"
      ],
      "metadata": {
        "id": "-ml2_46Dpvtz"
      }
    },
    {
      "cell_type": "code",
      "source": [
        "# print the first pixel of the image\n",
        "x = 0\n",
        "y = 0\n",
        "print(img[x, y])  # play along with x and y"
      ],
      "metadata": {
        "id": "Tq2XzNkPqC56"
      },
      "execution_count": null,
      "outputs": []
    },
    {
      "cell_type": "code",
      "source": [
        "# iterate over the whole image and separate red green and blue values from it into three separate images\n",
        "r_img = np.zeros(img.shape, dtype=np.int32)\n",
        "g_img = np.zeros(img.shape, dtype=np.int32)\n",
        "b_img = np.zeros(img.shape, dtype=np.int32)\n",
        "\n",
        "for i in range(0, img.shape[0]):  # horizontal axis\n",
        "    for j in range(0, img.shape[1]):  # vertical axis\n",
        "        pixel = img[i, j]  # [R, G, B]\n",
        "\n",
        "        r_img[i, j] = [pixel[0], 0, 0]\n",
        "        g_img[i, j] = [0, pixel[1], 0]\n",
        "        b_img[i, j] = [0, 0, pixel[2]]\n",
        "\n",
        "\n",
        "print('Extracted RED channel:')\n",
        "show_image(r_img)\n",
        "print('Extracted GREEN channel:')\n",
        "show_image(g_img)\n",
        "print('Extracted BLUE channel:')\n",
        "show_image(b_img)"
      ],
      "metadata": {
        "id": "GLeS8DW7qibi"
      },
      "execution_count": null,
      "outputs": []
    },
    {
      "cell_type": "markdown",
      "source": [
        "RGB Color picker: https://www.rapidtables.com/web/color/color-picker.html"
      ],
      "metadata": {
        "id": "J7QSHzUBxREC"
      }
    },
    {
      "cell_type": "code",
      "source": [
        "# white - to - blue\n",
        "img_1 = np.zeros((10, 10, 3), dtype=np.int32)\n",
        "show_image(img_1)\n",
        "\n",
        "# chessboard?\n",
        "for i in range(0, 10):\n",
        "    for j in range(0, 10):\n",
        "        if (i + j) % 2 == 0:\n",
        "            img_1[i, j] = [255, 255, 255]  # what color is this?\n",
        "show_image(img_1)"
      ],
      "metadata": {
        "id": "pkrDdKymvHOq"
      },
      "execution_count": null,
      "outputs": []
    },
    {
      "cell_type": "code",
      "source": [
        "# ######\n",
        "# Problem 1: we have an RGB pixel with value [35, 200, 155]. How much is the RED value?\n",
        "# ######\n",
        "\n",
        "pixel = [35, 200, 155]\n",
        "solution = # YOUR CODE HERE\n",
        "evaluate(problem_id='IP/basic/p1', submitted_solution=solution)"
      ],
      "metadata": {
        "id": "hYsSSNWNqGTa"
      },
      "execution_count": null,
      "outputs": []
    },
    {
      "cell_type": "markdown",
      "source": [
        "#### 1.2 Color image to Grayscale"
      ],
      "metadata": {
        "id": "bD6XNbCWlS1k"
      }
    },
    {
      "cell_type": "code",
      "source": [
        "# ######\n",
        "# Math:\n",
        "#  s, d in R{n, n}; s[0][0] in R{3}; d[0][0] in R;\n",
        "#  d|i, j in {0, n}|[i][j] = sum(s[i][j]) / count(s[i][j])\n",
        "# ######\n",
        "def color_to_grayscale(img: np.ndarray):\n",
        "    img_grayscale = np.zeros((img.shape[0], img.shape[1]))\n",
        "    \n",
        "    for i in range(0, img.shape[0]):\n",
        "        for j in range(0, img.shape[1]):\n",
        "            # print(np.average(img[i, j]))\n",
        "            img_grayscale[i, j] = int(np.average(img[i, j]))\n",
        "    return img_grayscale"
      ],
      "metadata": {
        "id": "9_TN5Jcodh2d"
      },
      "execution_count": null,
      "outputs": []
    },
    {
      "cell_type": "code",
      "source": [
        "img_grayscale = color_to_grayscale(img)\n",
        "show_image(img_grayscale)"
      ],
      "metadata": {
        "id": "WKl7jR4Rd3vc"
      },
      "execution_count": null,
      "outputs": []
    },
    {
      "cell_type": "code",
      "source": [
        "# ######\n",
        "# Problem 2: we have an RGB pixel with value [120, 175, 5]. What will be the grayscale value according to our algorithm used before?\n",
        "# ######\n",
        "\n",
        "pixel = [120, 175, 4]\n",
        "solution = # YOUR CODE HERE\n",
        "evaluate(problem_id='IP/basic/p2', submitted_solution=solution)"
      ],
      "metadata": {
        "id": "454wvcj1xWqq"
      },
      "execution_count": null,
      "outputs": []
    },
    {
      "cell_type": "markdown",
      "source": [
        "### 2. Complex operations on images"
      ],
      "metadata": {
        "id": "Ztx0JTnuXwsP"
      }
    },
    {
      "cell_type": "markdown",
      "source": [
        "#### 2.1 Conv2D"
      ],
      "metadata": {
        "id": "zzCA6WK4IKsg"
      }
    },
    {
      "cell_type": "markdown",
      "source": [
        "##### theory"
      ],
      "metadata": {
        "id": "NS2fTgJIuLD5"
      }
    },
    {
      "cell_type": "markdown",
      "source": [
        "![](https://drive.google.com/uc?export=view&id=1I-ksqhe13i04_qePM9_I8JrNw9mUCcIg)\n"
      ],
      "metadata": {
        "id": "bGtI-980tYVx"
      }
    },
    {
      "cell_type": "markdown",
      "source": [
        "![](https://drive.google.com/uc?export=view&id=1I3gPiYAWFPbbEKTi_L4KyVAOXZN4dUXM)\n"
      ],
      "metadata": {
        "id": "nWH9witFuvr6"
      }
    },
    {
      "cell_type": "markdown",
      "source": [
        "Source: https://developers.google.com/machine-learning/practica/image-classification/convolutional-neural-networks"
      ],
      "metadata": {
        "id": "QFQAedW2uP9S"
      }
    },
    {
      "cell_type": "markdown",
      "source": [
        "##### code"
      ],
      "metadata": {
        "id": "rWDG0u_BuNHx"
      }
    },
    {
      "cell_type": "code",
      "source": [
        "# sum(filter) = 1, so need to weight it if not!\n",
        "\n",
        "# average smoothing\n",
        "three = [[1, 1, 1], [1, 1, 1], [1, 1, 1]], 9\n",
        "five = [[1, 1, 1, 1, 1], [1, 1, 1, 1, 1], [1, 1, 1, 1, 1], [1, 1, 1, 1, 1], [1, 1, 1, 1, 1]], 25\n",
        "gaussian = [[1, 2, 1], [2, 4, 2], [1, 2, 1]], 16\n",
        "\n",
        "# edge enhancement\n",
        "#  generic\n",
        "laplace = [[-1, -1, -1], [-1, 8, -1], [-1, -1, -1]], 1\n",
        "highpass = [[-1, -1, -1], [-1, 9, -1], [-1, -1, -1]], 1\n",
        "#\n",
        "sobel_vertical = [[-1, 0, 1], [-2, 0, 2], [-1, 0, 1]], 1\n",
        "sobel_horizontal = [[-1, -2, -1], [0, 0, 0], [1, 2, 1]], 1"
      ],
      "metadata": {
        "id": "0q5peyfCHUI5"
      },
      "execution_count": null,
      "outputs": []
    },
    {
      "cell_type": "code",
      "source": [
        "# ######\n",
        "# Math: \n",
        "#  s, d in R{n, n}; s[0][0], d[0][0] in R;\n",
        "#  d|i, j in {1, n - 1}|[i][j] = |_i, _j in {0, filter_width}|{sum|i, j in {1, n-1}|(s[i - filter_width + _i][j - filter_width + _j] * filter[_i][_j])}\n",
        "# ######\n",
        "def conv2d(img: np.ndarray, filter_obj: Union[list, int]):\n",
        "    # check grayscale for transformation using our code\n",
        "    assert isinstance(img[0, 0], np.float64)\n",
        "\n",
        "    # copy image to a numpy array => borders!\n",
        "    image_transformed = np.copy(img)\n",
        "\n",
        "    # size of the (original) image\n",
        "    size_x = image_transformed.shape[0]\n",
        "    size_y = image_transformed.shape[1]\n",
        "\n",
        "    # collect filter and weight from the composite filter_object\n",
        "    filter, weight = filter_obj\n",
        "    size_of_filter = len(filter[0])\n",
        "    filter_width = size_of_filter // 2  # border of matrix\n",
        "\n",
        "    # iterate over the image !! careful at boundaries\n",
        "    for x in range(filter_width, size_x - filter_width):\n",
        "        for y in range(filter_width, size_y - filter_width):\n",
        "            convolution = 0.0\n",
        "            for i in range(0, size_of_filter):\n",
        "                for j in range(0, size_of_filter):\n",
        "                    convolution += img[x - filter_width + i, y - filter_width + j] * filter[i][j]\n",
        "            # div by weight !!\n",
        "            convolution /= weight\n",
        "            # bound between the boundaries of 1byte ~= grayscale\n",
        "            convolution = min(255, max(0, convolution))\n",
        "\n",
        "            image_transformed[x, y] = convolution\n",
        "    return image_transformed"
      ],
      "metadata": {
        "id": "6cMwIlmfHY5X"
      },
      "execution_count": null,
      "outputs": []
    },
    {
      "cell_type": "code",
      "source": [
        "res = conv2d(img_grayscale, sobel_vertical)\n",
        "show_image(res)\n",
        "\n",
        "res = conv2d(img_grayscale, sobel_horizontal)\n",
        "show_image(res)"
      ],
      "metadata": {
        "id": "BRoGz-hQHa7m"
      },
      "execution_count": null,
      "outputs": []
    },
    {
      "cell_type": "markdown",
      "source": [
        "#### 2.2 MaxPool2D"
      ],
      "metadata": {
        "id": "JgloKM-THiaO"
      }
    },
    {
      "cell_type": "markdown",
      "source": [
        "##### theory"
      ],
      "metadata": {
        "id": "V2EEM0ByvF37"
      }
    },
    {
      "cell_type": "markdown",
      "source": [
        "![](https://drive.google.com/uc?export=view&id=1IC7l4ug6v9nitk8ToiISVjz8pRrMOntq)\n"
      ],
      "metadata": {
        "id": "5z5c7CIPwE-i"
      }
    },
    {
      "cell_type": "markdown",
      "source": [
        "Source: https://developers.google.com/machine-learning/practica/image-classification/convolutional-neural-networks"
      ],
      "metadata": {
        "id": "-zI1mGAwwjm7"
      }
    },
    {
      "cell_type": "markdown",
      "source": [
        "##### code"
      ],
      "metadata": {
        "id": "zVk9ihwkvIzr"
      }
    },
    {
      "cell_type": "code",
      "source": [
        "# ######\n",
        "# Math: \n",
        "#  s  R{n, n}; s[0][0]; d in R{m, m}; d[0][0] in R;\n",
        "#  d|i, j in {0, m}|[i][j] = max(|_i, _j in {0, conv_size}|{sum|i, j in {0, n, conv_size}|(s[i + _i][j + _j])})\n",
        "# ######\n",
        "def maxpool2d(img: np.ndarray, conv_size: int) -> np.ndarray:\n",
        "    # check grayscale for transformation using our code\n",
        "    assert isinstance(img[0, 0], np.float64)\n",
        "\n",
        "    # size of the (original) image\n",
        "    size_x = img.shape[0]\n",
        "    size_y = img.shape[1]\n",
        "\n",
        "    new_x = size_x // conv_size\n",
        "    new_y = size_y // conv_size\n",
        "\n",
        "    # Create blank image with reduced dimensions\n",
        "    image_transformed = np.zeros((new_x, new_y))\n",
        "\n",
        "    # Iterate over the image\n",
        "    for x in range(0, size_x, conv_size):\n",
        "        for y in range(0, size_y, conv_size):\n",
        "            pixels = []\n",
        "            for i in range(0, conv_size):\n",
        "                for j in range(0, conv_size):\n",
        "                    pixels.append(img[x + i, y + j])\n",
        "\n",
        "            # Get only the largest value and assign to the reduced image\n",
        "            image_transformed[x // conv_size, y // conv_size] = max(pixels)\n",
        "    return image_transformed"
      ],
      "metadata": {
        "id": "fCS-XFkPHhKv"
      },
      "execution_count": null,
      "outputs": []
    },
    {
      "cell_type": "code",
      "source": [
        "res = maxpool2d(img_grayscale, 5)  # careful, conv_size HAS TO DIVIDE shape of input image\n",
        "# res = maxpool2d(img_grayscale, 8)\n",
        "show_image(res)"
      ],
      "metadata": {
        "id": "vhQ36Mb-nET0"
      },
      "execution_count": null,
      "outputs": []
    },
    {
      "cell_type": "markdown",
      "source": [
        "### Commonly used IP concepts/techniques"
      ],
      "metadata": {
        "id": "iu9J5VeZwUvb"
      }
    }
  ]
}